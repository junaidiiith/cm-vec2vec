{
 "cells": [
  {
   "cell_type": "markdown",
   "id": "861fe889",
   "metadata": {},
   "source": [
    "## OntoUML templating"
   ]
  },
  {
   "cell_type": "code",
   "execution_count": 1,
   "id": "e2edb9a5",
   "metadata": {},
   "outputs": [
    {
     "name": "stdout",
     "output_type": "stream",
     "text": [
      "Model loaded successfully!\n",
      "Model parameters: 3,146,691\n",
      "Model config: embedding_dim=1536, latent_dim=64, hidden_dim=256\n"
     ]
    }
   ],
   "source": [
    "from cm_vec2vec.training import CMVec2VecTrainer\n",
    "from cm_vec2vec.translators.cm_vec2vec_translator import CMVec2VecTranslator\n",
    "\n",
    "# Load model from checkpoint\n",
    "model = CMVec2VecTranslator.load_from_checkpoint('logs/cm_vec2vec/archimate/checkpoints/best_model.pt')\n",
    "trainer = CMVec2VecTrainer(model)\n",
    "\n",
    "print('Model loaded successfully!')\n",
    "print(f'Model parameters: {sum(p.numel() for p in model.parameters()):,}')\n",
    "print(f'Model config: embedding_dim={model.embedding_dim}, latent_dim={model.latent_dim}, hidden_dim={model.hidden_dim}')"
   ]
  }
 ],
 "metadata": {
  "kernelspec": {
   "display_name": ".venv",
   "language": "python",
   "name": "python3"
  },
  "language_info": {
   "codemirror_mode": {
    "name": "ipython",
    "version": 3
   },
   "file_extension": ".py",
   "mimetype": "text/x-python",
   "name": "python",
   "nbconvert_exporter": "python",
   "pygments_lexer": "ipython3",
   "version": "3.12.3"
  }
 },
 "nbformat": 4,
 "nbformat_minor": 5
}
